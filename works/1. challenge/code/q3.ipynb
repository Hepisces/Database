{
 "cells": [
  {
   "cell_type": "markdown",
   "metadata": {},
   "source": [
    "# Q3 "
   ]
  },
  {
   "cell_type": "code",
   "execution_count": 2,
   "metadata": {},
   "outputs": [],
   "source": [
    "# 必要的包导入，以及api检查\n",
    "from openai import OpenAI\n",
    "import os\n",
    "# print(os.getenv(\"DEEPSEEK_API_KEY\"))\n",
    "client=OpenAI(api_key=os.getenv(\"DEEPSEEK_API_KEY\"),base_url=\"https://api.deepseek.com\")"
   ]
  },
  {
   "cell_type": "code",
   "execution_count": 3,
   "metadata": {},
   "outputs": [],
   "source": [
    "# 回答函数\n",
    "def respond(model, client, system_content, user_content):\n",
    "    \"\"\"\n",
    "    回答函数\n",
    "    model: 模型名称\n",
    "    client: api信息\n",
    "    system_content: 系统提示词\n",
    "    user_content: 用户提示词\n",
    "    \"\"\"\n",
    "    model_name = {\"deepseek-chat\": \"DeepSeek-V3\", \"deepseek-reasoner\": \"DeepSeek-R1\"}\n",
    "    print(f\"正在使用{model_name[model]}模型回答...\")\n",
    "    response = client.chat.completions.create(\n",
    "        model=model,\n",
    "        messages=[\n",
    "            {\"role\": \"system\", \"content\": system_content},\n",
    "            {\"role\": \"user\", \"content\": user_content},\n",
    "        ],\n",
    "        stream=False,\n",
    "    )\n",
    "    print(response.choices[0].message.content)\n",
    "    print(f\"{model_name[model]}模型回答完成\")\n",
    "\n",
    "\n",
    "# 用户提示词\n",
    "user_content = \"\"\"\n",
    "考虑create table classroom\n",
    " (building  varchar(15),\n",
    "  room_number  varchar(7),\n",
    "  capacity  numeric(4,0),\n",
    "  primary key (building, room_number)\n",
    " );找出容量最大的教室房间号\n",
    "\"\"\""
   ]
  },
  {
   "cell_type": "markdown",
   "metadata": {},
   "source": [
    "**expected output**\n",
    "```sql\n",
    "SELECT room_number\n",
    "FROM classroom\n",
    "WHERE capacity = (SELECT MAX(capacity) FROM classroom);\n",
    "```"
   ]
  },
  {
   "cell_type": "code",
   "execution_count": 4,
   "metadata": {},
   "outputs": [
    {
     "name": "stdout",
     "output_type": "stream",
     "text": [
      "正在使用DeepSeek-V3模型回答...\n",
      "要找出容量最大的教室房间号，你可以使用 SQL 查询语句。以下是一个示例查询：\n",
      "\n",
      "```sql\n",
      "SELECT building, room_number\n",
      "FROM classroom\n",
      "WHERE capacity = (SELECT MAX(capacity) FROM classroom);\n",
      "```\n",
      "\n",
      "### 解释：\n",
      "1. **`SELECT building, room_number`**: 选择要返回的列，即 `building` 和 `room_number`。\n",
      "2. **`FROM classroom`**: 从 `classroom` 表中查询数据。\n",
      "3. **`WHERE capacity = (SELECT MAX(capacity) FROM classroom)`**: 过滤条件，选择容量等于最大容量的记录。子查询 `(SELECT MAX(capacity) FROM classroom)` 返回 `classroom` 表中最大的 `capacity` 值。\n",
      "\n",
      "### 结果：\n",
      "该查询将返回容量最大的教室的 `building` 和 `room_number`。如果有多个教室的容量相同且都是最大的，查询将返回所有这些教室的信息。\n",
      "DeepSeek-V3模型回答完成\n",
      "--------------------------------\n",
      "正在使用DeepSeek-R1模型回答...\n",
      "要找出容量最大的教室房间号，可以使用以下SQL查询：\n",
      "\n",
      "```sql\n",
      "SELECT building, room_number\n",
      "FROM classroom\n",
      "WHERE capacity = (SELECT MAX(capacity) FROM classroom);\n",
      "```\n",
      "\n",
      "**步骤解释：**\n",
      "1. **子查询获取最大容量**：`(SELECT MAX(capacity) FROM classroom)` 计算所有教室的最大容量。\n",
      "2. **主查询匹配容量**：外层查询选择容量等于最大值的记录，返回对应的`building`和`room_number`组合，确保唯一标识每个教室。\n",
      "\n",
      "**注意：**\n",
      "- 使用`building`和`room_number`共同确保结果唯一，因为不同建筑可能有相同房间号。\n",
      "- 若存在多个教室容量同为最大值，将全部返回。\n",
      "DeepSeek-R1模型回答完成\n"
     ]
    }
   ],
   "source": [
    "# 系统提示词(默认模式)\n",
    "system_content = \"\"\"\n",
    "你是一位助手\n",
    "\"\"\"\n",
    "\n",
    "v3 = \"deepseek-chat\"\n",
    "r1 = \"deepseek-reasoner\"\n",
    "respond(v3, client, system_content, user_content)\n",
    "print(\"--------------------------------\")\n",
    "respond(r1, client, system_content, user_content)"
   ]
  },
  {
   "cell_type": "code",
   "execution_count": 11,
   "metadata": {},
   "outputs": [
    {
     "name": "stdout",
     "output_type": "stream",
     "text": [
      "正在使用DeepSeek-V3模型回答...\n",
      "```sql\n",
      "SELECT room_number FROM classroom WHERE capacity = (SELECT MAX(capacity) FROM classroom);\n",
      "```\n",
      "DeepSeek-V3模型回答完成\n",
      "--------------------------------\n",
      "正在使用DeepSeek-R1模型回答...\n",
      "```sql\n",
      "SELECT room_number FROM classroom WHERE capacity = (SELECT MAX(capacity) FROM classroom);\n",
      "```\n",
      "DeepSeek-R1模型回答完成\n"
     ]
    }
   ],
   "source": [
    "# 系统提示词(costar)\n",
    "system_content = \"\"\"\n",
    "#角色#\n",
    "你是一个SQL专家。我会给你一个SQL相关的问题。\n",
    "\n",
    "#规则#\n",
    "请你：\n",
    "1. 只输出解决问题所需的SQL代码\n",
    "2. 不要有任何解释性文字\n",
    "3. 确保代码语法正确且可以直接执行\n",
    "4. 代码要简洁高效\n",
    "5. 只输出一个SQL语句\n",
    "\"\"\"\n",
    "\n",
    "v3 = \"deepseek-chat\"\n",
    "r1 = \"deepseek-reasoner\"\n",
    "respond(v3, client, system_content, user_content)\n",
    "print(\"--------------------------------\")\n",
    "respond(r1, client, system_content, user_content)"
   ]
  },
  {
   "cell_type": "markdown",
   "metadata": {},
   "source": [
    "### demo\n",
    "\n",
    "The deepseek-chat model points to DeepSeek-V3. The deepseek-reasoner model points to DeepSeek-R1.\n",
    "\n",
    "https://api-docs.deepseek.com/quick_start/pricing\n",
    "\n",
    "\n",
    "```python\n",
    "# Please install OpenAI SDK first: `pip3 install openai`\n",
    "\n",
    "from openai import OpenAI\n",
    "\n",
    "client = OpenAI(api_key=\"<DeepSeek API Key>\", base_url=\"https://api.deepseek.com\")\n",
    "\n",
    "response = client.chat.completions.create(\n",
    "    model=\"deepseek-chat\",\n",
    "    messages=[\n",
    "        {\"role\": \"system\", \"content\": \"You are a helpful assistant\"},\n",
    "        {\"role\": \"user\", \"content\": \"Hello\"},\n",
    "    ],\n",
    "    stream=False\n",
    ")\n",
    "\n",
    "print(response.choices[0].message.content)\n",
    "```"
   ]
  }
 ],
 "metadata": {
  "kernelspec": {
   "display_name": "pytorch",
   "language": "python",
   "name": "python3"
  },
  "language_info": {
   "codemirror_mode": {
    "name": "ipython",
    "version": 3
   },
   "file_extension": ".py",
   "mimetype": "text/x-python",
   "name": "python",
   "nbconvert_exporter": "python",
   "pygments_lexer": "ipython3",
   "version": "3.12.5"
  }
 },
 "nbformat": 4,
 "nbformat_minor": 2
}
