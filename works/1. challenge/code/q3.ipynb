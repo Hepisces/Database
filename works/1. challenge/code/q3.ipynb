{
 "cells": [
  {
   "cell_type": "markdown",
   "metadata": {},
   "source": [
    "# Q3 "
   ]
  },
  {
   "cell_type": "code",
   "execution_count": 7,
   "metadata": {},
   "outputs": [],
   "source": [
    "# 必要的包导入，以及api检查\n",
    "from openai import OpenAI\n",
    "import os\n",
    "# print(os.getenv(\"DEEPSEEK_API_KEY\"))\n",
    "client=OpenAI(api_key=os.getenv(\"DEEPSEEK_API_KEY\"),base_url=\"https://api.deepseek.com\")"
   ]
  },
  {
   "cell_type": "code",
   "execution_count": 10,
   "metadata": {},
   "outputs": [],
   "source": [
    "# 回答函数\n",
    "def respond(model,client,system_content,user_content):\n",
    "    \"\"\"\n",
    "    回答函数\n",
    "    model: 模型名称\n",
    "    client: api信息\n",
    "    system_content: 系统提示词\n",
    "    user_content: 用户提示词\n",
    "    \"\"\"\n",
    "    model_name={\"deepseek-chat\":\"DeepSeek-V3\",\"deepseek-reasoner\":\"DeepSeek-R1\"}\n",
    "    print(f\"正在使用{model_name[model]}模型回答...\")\n",
    "    response=client.chat.completions.create(\n",
    "        model=model,\n",
    "        messages=[\n",
    "            {\"role\":\"system\",\"content\":system_content},\n",
    "            {\"role\":\"user\",\"content\":user_content}\n",
    "        ],\n",
    "        stream=False\n",
    "    )\n",
    "    print(response.choices[0].message.content)\n",
    "    print(f\"{model_name[model]}模型回答完成\")\n",
    "    \n",
    "# 系统提示词\n",
    "system_content=\"\"\"\n",
    "#角色#\n",
    "你是一个SQL专家。我会给你一个SQL相关的问题。\n",
    "\n",
    "#规则#\n",
    "请你：\n",
    "1. 只输出解决问题所需的SQL代码\n",
    "2. 不要有任何解释性文字\n",
    "3. 确保代码语法正确且可以直接执行\n",
    "4. 代码要简洁高效\n",
    "5. 只输出一个SQL语句\n",
    "\n",
    "\"\"\"\n",
    "\n",
    "# 用户提示词\n",
    "user_content=\"\"\"\n",
    "考虑create table classroom\n",
    " (building  varchar(15),\n",
    "  room_number  varchar(7),\n",
    "  capacity  numeric(4,0),\n",
    "  primary key (building, room_number)\n",
    " );找出容量最大的教室房间号\n",
    "\"\"\""
   ]
  },
  {
   "cell_type": "markdown",
   "metadata": {},
   "source": [
    "**expected output**\n",
    "```sql\n",
    "SELECT room_number\n",
    "FROM classroom\n",
    "WHERE capacity = (SELECT MAX(capacity) FROM classroom);\n",
    "```"
   ]
  },
  {
   "cell_type": "code",
   "execution_count": 11,
   "metadata": {},
   "outputs": [
    {
     "name": "stdout",
     "output_type": "stream",
     "text": [
      "正在使用DeepSeek-V3模型回答...\n",
      "```sql\n",
      "SELECT room_number FROM classroom WHERE capacity = (SELECT MAX(capacity) FROM classroom);\n",
      "```\n",
      "DeepSeek-V3模型回答完成\n",
      "--------------------------------\n",
      "正在使用DeepSeek-R1模型回答...\n",
      "```sql\n",
      "SELECT room_number FROM classroom WHERE capacity = (SELECT MAX(capacity) FROM classroom);\n",
      "```\n",
      "DeepSeek-R1模型回答完成\n"
     ]
    }
   ],
   "source": [
    "v3=\"deepseek-chat\"\n",
    "r1=\"deepseek-reasoner\"\n",
    "respond(v3,client,system_content,user_content)\n",
    "print(\"--------------------------------\")\n",
    "respond(r1,client,system_content,user_content)\n"
   ]
  },
  {
   "cell_type": "markdown",
   "metadata": {},
   "source": [
    "### demo\n",
    "\n",
    "The deepseek-chat model points to DeepSeek-V3. The deepseek-reasoner model points to DeepSeek-R1.\n",
    "\n",
    "https://api-docs.deepseek.com/quick_start/pricing\n",
    "\n",
    "\n",
    "```python\n",
    "# Please install OpenAI SDK first: `pip3 install openai`\n",
    "\n",
    "from openai import OpenAI\n",
    "\n",
    "client = OpenAI(api_key=\"<DeepSeek API Key>\", base_url=\"https://api.deepseek.com\")\n",
    "\n",
    "response = client.chat.completions.create(\n",
    "    model=\"deepseek-chat\",\n",
    "    messages=[\n",
    "        {\"role\": \"system\", \"content\": \"You are a helpful assistant\"},\n",
    "        {\"role\": \"user\", \"content\": \"Hello\"},\n",
    "    ],\n",
    "    stream=False\n",
    ")\n",
    "\n",
    "print(response.choices[0].message.content)\n",
    "```"
   ]
  }
 ],
 "metadata": {
  "kernelspec": {
   "display_name": "pytorch",
   "language": "python",
   "name": "python3"
  },
  "language_info": {
   "codemirror_mode": {
    "name": "ipython",
    "version": 3
   },
   "file_extension": ".py",
   "mimetype": "text/x-python",
   "name": "python",
   "nbconvert_exporter": "python",
   "pygments_lexer": "ipython3",
   "version": "3.12.5"
  }
 },
 "nbformat": 4,
 "nbformat_minor": 2
}
